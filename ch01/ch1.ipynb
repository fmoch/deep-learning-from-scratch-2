{
 "cells": [
  {
   "cell_type": "markdown",
   "metadata": {},
   "source": [
    "# ゼロつく2 #1\n",
    "以下を参考に動作確認しつつ学習を進める  \n",
    "[『ゼロから作るDeep Learning 2』の学習ノート](https://www.anarchive-beta.com/entry/2020/08/28/190000)"
   ]
  },
  {
   "cell_type": "markdown",
   "metadata": {},
   "source": [
    "## 1.1-2：ニューラルネットワークの推論"
   ]
  },
  {
   "cell_type": "code",
   "execution_count": 67,
   "metadata": {},
   "outputs": [
    {
     "name": "stdout",
     "output_type": "stream",
     "text": [
      "<class 'numpy.ndarray'>\n"
     ]
    }
   ],
   "source": [
    "import numpy as np\n",
    "import matplotlib.pyplot as plt\n",
    "\n",
    "x = np.array([1, 2, 3])\n",
    "print(x.__class__) # xのクラスがndarray担っていることを確認"
   ]
  },
  {
   "cell_type": "code",
   "execution_count": 68,
   "metadata": {},
   "outputs": [
    {
     "name": "stdout",
     "output_type": "stream",
     "text": [
      "(3,)\n",
      "1\n"
     ]
    }
   ],
   "source": [
    "print(x.shape) \n",
    "#１行３列の行列になる, １行のみの場合は(1, 3)ではなく(3,)となる\n",
    "print(x.ndim)\n",
    "# 次元数は１次元"
   ]
  },
  {
   "cell_type": "code",
   "execution_count": 69,
   "metadata": {},
   "outputs": [
    {
     "name": "stdout",
     "output_type": "stream",
     "text": [
      "(2, 3)\n",
      "2\n"
     ]
    }
   ],
   "source": [
    "## 行列を作成\n",
    "W = np.array([[1, 2, 3],[4, 5, 6]])\n",
    "# 2行３列の形を確認\n",
    "print(W.shape)\n",
    "# 次元は２次元\n",
    "print(W.ndim)"
   ]
  },
  {
   "cell_type": "markdown",
   "metadata": {},
   "source": [
    "### 1.2.1 ニューラルネットワークの推論の全体図"
   ]
  },
  {
   "cell_type": "code",
   "execution_count": 70,
   "metadata": {},
   "outputs": [
    {
     "name": "stdout",
     "output_type": "stream",
     "text": [
      "[[-0.02047145  1.79161371]]\n",
      "入力層の大きさは(1, 2)\n",
      "重みの大きさは(2, 4)\n",
      "バイアスの大きさは(1, 4)\n"
     ]
    }
   ],
   "source": [
    "# 全結合層（Affine)の動作確認\n",
    "# 入力\n",
    "x = np.random.randn(1, 2) # 一行２列のランダムな数字の行列\n",
    "print(x)\n",
    "print(f\"入力層の大きさは{x.shape}\")\n",
    "\n",
    "# 重み\n",
    "W = np.random.randn(2, 4)\n",
    "print(f\"重みの大きさは{W.shape}\")\n",
    "\n",
    "# バイアス\n",
    "b = np.random.randn(1, 4)\n",
    "print(f\"バイアスの大きさは{b.shape}\")\n",
    "\n"
   ]
  },
  {
   "cell_type": "code",
   "execution_count": 71,
   "metadata": {},
   "outputs": [
    {
     "name": "stdout",
     "output_type": "stream",
     "text": [
      "(10, 2)\n",
      "(2, 4)\n",
      "(1, 4)\n",
      "(10, 4)\n"
     ]
    }
   ],
   "source": [
    "# バッチサイズを指定\n",
    "N = 10\n",
    "\n",
    "## 全結合層の計算\n",
    "\n",
    "# 入力を生成\n",
    "x = np.random.randn(N, 2)\n",
    "print(x.shape)\n",
    "\n",
    "# 重みを生成\n",
    "W = np.random.randn(2, 4)\n",
    "print(W.shape)\n",
    "\n",
    "# バイアスを生成\n",
    "b = np.random.randn(1, 4)\n",
    "print(b.shape)\n",
    "\n",
    "# 隠れ層のニューロンを計算\n",
    "h = np.dot(x, W) + b\n",
    "print(h.shape)"
   ]
  },
  {
   "cell_type": "code",
   "execution_count": 72,
   "metadata": {},
   "outputs": [],
   "source": [
    "# シグモイド関数の実装\n",
    "def sigmoid(x):\n",
    "    return 1 / (1 + np.exp(-x))"
   ]
  },
  {
   "cell_type": "code",
   "execution_count": 73,
   "metadata": {},
   "outputs": [
    {
     "name": "stdout",
     "output_type": "stream",
     "text": [
      "[[ 0.775  1.462 -1.808  0.872]\n",
      " [ 0.476 -1.322  0.413 -2.152]\n",
      " [-1.218 -0.238 -0.4   -0.519]\n",
      " [ 1.754 -1.622  0.614 -2.807]\n",
      " [ 3.369  0.47  -1.094 -0.885]\n",
      " [ 0.968 -1.711  0.708 -2.709]\n",
      " [-1.521 -1.346  0.488 -1.676]\n",
      " [-1.124 -1.385  0.508 -1.819]\n",
      " [-2.311 -0.726  0.019 -0.787]\n",
      " [-0.621 -2.464  1.351 -3.147]]\n",
      "[[0.685 0.812 0.141 0.705]\n",
      " [0.617 0.21  0.602 0.104]\n",
      " [0.228 0.441 0.401 0.373]\n",
      " [0.852 0.165 0.649 0.057]\n",
      " [0.967 0.615 0.251 0.292]\n",
      " [0.725 0.153 0.67  0.062]\n",
      " [0.179 0.207 0.62  0.158]\n",
      " [0.245 0.2   0.624 0.14 ]\n",
      " [0.09  0.326 0.505 0.313]\n",
      " [0.349 0.078 0.794 0.041]]\n",
      "(10, 4)\n"
     ]
    }
   ],
   "source": [
    "# シグモイド関数による活性化\n",
    "a = sigmoid(h)\n",
    "print(np.round(h, 3))\n",
    "print(np.round(a, 3))\n",
    "print(a.shape)"
   ]
  },
  {
   "cell_type": "code",
   "execution_count": 74,
   "metadata": {},
   "outputs": [
    {
     "data": {
      "image/png": "[encoded data removed]",
      "text/plain": [
       "<Figure size 640x480 with 1 Axes>"
      ]
     },
     "metadata": {},
     "output_type": "display_data"
    }
   ],
   "source": [
    "# x軸の値を生成\n",
    "x = np.arange(-5, 5, 0.1)\n",
    "\n",
    "# シグモイド関数の計算\n",
    "y = sigmoid(x)\n",
    "\n",
    "# 作図\n",
    "plt.plot(x, y) # 点の位置\n",
    "plt.hlines(y=0.5, xmin=np.min(x), xmax=np.max(x), linestyle='--', linewidth=1) # 水平線\n",
    "plt.vlines(x=0, ymin=0, ymax=1, linestyle='--', linewidth=1) # 垂直線\n",
    "plt.xlabel('x') # x軸ラベル\n",
    "plt.ylabel('y') # y軸ラベル\n",
    "plt.title('Sigmoid Function', fontsize=20) # タイトル\n",
    "plt.show() # 描画"
   ]
  },
  {
   "cell_type": "code",
   "execution_count": 75,
   "metadata": {},
   "outputs": [
    {
     "name": "stdout",
     "output_type": "stream",
     "text": [
      "(10, 4)\n",
      "(10, 4)\n",
      "(10, 3)\n"
     ]
    }
   ],
   "source": [
    "# ２層のニューラルネットワーク\n",
    "N = 10\n",
    "\n",
    "# 入力\n",
    "x = np.random.randn(N, 2)\n",
    "\n",
    "# 中間層1重み\n",
    "W1 = np.random.randn(2, 4)\n",
    "# 中間層1バイアス\n",
    "b1 = np.random.randn(1, 4)\n",
    "# 中間層1重み付き和\n",
    "h1 = np.dot(x, W1) + b1\n",
    "\n",
    "a = sigmoid(h1)\n",
    "\n",
    "# 中間層2重み\n",
    "W2 = np.random.randn(4, 3)\n",
    "# 中間層2バイアス\n",
    "b2 = np.random.randn(1, 3)\n",
    "# 中間層2重み付き和\n",
    "h2 = np.dot(a, W2) + b2\n",
    "\n",
    "print(h1.shape)\n",
    "print(a.shape)\n",
    "print(h2.shape)\n"
   ]
  },
  {
   "cell_type": "code",
   "execution_count": 76,
   "metadata": {},
   "outputs": [],
   "source": [
    "#シグモイドレイヤ\n",
    "class Sigmoid:\n",
    "    # 初期化メソッド\n",
    "    def __init__(self):\n",
    "        self.params = []\n",
    "    \n",
    "    def forward(self,x):\n",
    "        return 1 / (1 + np.exp(-x))\n",
    "\n",
    "# Affineレイヤ\n",
    "class Affine:\n",
    "    # 初期化\n",
    "    def __init__(self, W, b):\n",
    "        self.params = [W, b] # パラメータ\n",
    "    \n",
    "    def forward(self, x):\n",
    "        W, b = self.params \n",
    "        out = np.dot(x, W) + b\n",
    "        return out"
   ]
  },
  {
   "cell_type": "code",
   "execution_count": 77,
   "metadata": {},
   "outputs": [],
   "source": [
    "# SigmoidとAffineを用いて２層のニューラルネットワークを作成\n",
    "# バッチサイズを指定\n",
    "N = 10\n",
    "\n",
    "# 入力を生成\n",
    "x = np.random.randn(N, 2)\n",
    "\n",
    "# 第1層のパラメータ\n",
    "W1 = np.random.randn(2, 4)\n",
    "b1 = np.random.randn(1, 4)\n",
    "\n",
    "# 第2層のパラメータ\n",
    "W2 = np.random.randn(4, 3)\n",
    "b2 = np.random.randn(1, 3)"
   ]
  },
  {
   "cell_type": "code",
   "execution_count": 78,
   "metadata": {},
   "outputs": [
    {
     "name": "stdout",
     "output_type": "stream",
     "text": [
      "[<__main__.Affine object at 0x10f5f60e0>, <__main__.Sigmoid object at 0x10f41c130>, <__main__.Affine object at 0x10f41cf40>]\n"
     ]
    }
   ],
   "source": [
    "# 各レイヤをリストに格納\n",
    "layers = [Affine(W1, b1),\n",
    "        Sigmoid(),\n",
    "        Affine(W2, b2)]\n",
    "\n",
    "print(layers)"
   ]
  },
  {
   "cell_type": "code",
   "execution_count": 79,
   "metadata": {},
   "outputs": [
    {
     "name": "stdout",
     "output_type": "stream",
     "text": [
      "(10, 4)\n",
      "(10, 4)\n",
      "(10, 3)\n"
     ]
    }
   ],
   "source": [
    "for layer in layers:\n",
    "    x = layer.forward(x)\n",
    "    print(x.shape)"
   ]
  },
  {
   "cell_type": "code",
   "execution_count": 80,
   "metadata": {},
   "outputs": [],
   "source": [
    "class TwoLayerNet():\n",
    "    # 初期化\n",
    "    def __init__(self, input_size, hidden_size, output_size):\n",
    "        # 各レイヤのニューロン数\n",
    "        I, H, O = input_size, hidden_size, output_size\n",
    "        # 第１層のパラメータ\n",
    "        W1 = np.random.randn(I, H)\n",
    "        b1 = np.random.randn(H)\n",
    "        # 第２層のパラメータ\n",
    "        W2 = np.random.randn(H, O)\n",
    "        b2 = np.random.randn(O)\n",
    "        \n",
    "        #レイヤ゙の作成\n",
    "        self.layers = [\n",
    "            Affine(W1, b1),\n",
    "            Sigmoid(),\n",
    "            Affine(W2, b2)\n",
    "            ]\n",
    "        \n",
    "        # 各パラメータのリストを結合\n",
    "        self.params = []\n",
    "        for layer in self.layers:\n",
    "            self.params += layer.params\n",
    "    \n",
    "    def predict(self, x):\n",
    "        for layer in self.layers:\n",
    "            x = layer.forward(x)\n",
    "        return x"
   ]
  },
  {
   "cell_type": "code",
   "execution_count": 81,
   "metadata": {},
   "outputs": [
    {
     "data": {
      "text/plain": [
       "(10, 3)"
      ]
     },
     "execution_count": 81,
     "metadata": {},
     "output_type": "execute_result"
    }
   ],
   "source": [
    "N = 10\n",
    "\n",
    "x = np.random.randn(N, 2)\n",
    "\n",
    "model = TwoLayerNet(input_size=2, hidden_size=4, output_size=3)\n",
    "y = model.predict(x)\n",
    "y.shape"
   ]
  },
  {
   "cell_type": "markdown",
   "metadata": {},
   "source": [
    "### 1-3 損失関数"
   ]
  },
  {
   "cell_type": "code",
   "execution_count": 82,
   "metadata": {},
   "outputs": [],
   "source": [
    "# Softmax関数の実装\n",
    "def softmax(x):\n",
    "    # データの形状により条件分岐\n",
    "    if x.ndim == 2: # 2次元配列のとき\n",
    "        x = x - x.max(axis=1, keepdims=True) # オーバーフロー対策\n",
    "        x = np.exp(x) # 式(1.6)の分子\n",
    "        x /= x.sum(axis=1, keepdims=True) # 式(1.6)\n",
    "    if x.ndim == 1: # 1次元配列のとき\n",
    "        x = x - np.max(x) # オーバーフロー対策\n",
    "        x = np.exp(x) / np.sum(np.exp(x)) # 式(1.6)\n",
    "    \n",
    "    return x"
   ]
  },
  {
   "cell_type": "code",
   "execution_count": 83,
   "metadata": {},
   "outputs": [
    {
     "name": "stdout",
     "output_type": "stream",
     "text": [
      "[-5 -4 -3 -2 -1  0  1  2  3  4]\n",
      "[0.    0.    0.001 0.002 0.004 0.012 0.031 0.086 0.233 0.632]\n",
      "1.0\n"
     ]
    }
   ],
   "source": [
    "# 仮のスコアを生成\n",
    "s = np.arange(-5, 5)\n",
    "print(s)\n",
    "\n",
    "# Softmax関数による正規化\n",
    "y = softmax(s)\n",
    "print(np.round(y, 3))\n",
    "print(np.sum(y))"
   ]
  },
  {
   "cell_type": "code",
   "execution_count": 84,
   "metadata": {},
   "outputs": [],
   "source": [
    "# 交差エントロピー誤差の実装\n",
    "def cross_entropy_error(y, t):\n",
    "    # 2次元配列に変形\n",
    "    if y.ndim == 1: # 1次元配列のとき\n",
    "        t = t.reshape(1, t.size)\n",
    "        y = y.reshape(1, y.size)\n",
    "    \n",
    "    # 正解ラベルのインデックスに変換\n",
    "    if t.size == y.size: # one-hotベクトルのとき\n",
    "        t = t.argmax(axis=1)\n",
    "    \n",
    "    # バッチサイズを取得\n",
    "    batch_size = y.shape[0]\n",
    "    \n",
    "    # 交差エントロピー誤差を計算\n",
    "    return - np.sum(np.log(y[np.arange(batch_size), t] + 1e-7)) / batch_size # 式(1.8)"
   ]
  },
  {
   "cell_type": "code",
   "execution_count": 85,
   "metadata": {},
   "outputs": [
    {
     "name": "stdout",
     "output_type": "stream",
     "text": [
      "[0. 0. 0. 0. 0. 0. 0. 0. 0. 1.]\n",
      "0.4586295862362355\n"
     ]
    }
   ],
   "source": [
    "# 正解のインデックス\n",
    "k = 9\n",
    "\n",
    "# 仮の教師ラベル\n",
    "t = np.zeros_like(y)\n",
    "t[k] = 1\n",
    "print(t)\n",
    "\n",
    "L = cross_entropy_error(y, t)\n",
    "print(L) # 交差エントロピー誤差が小さい->誤差が小さい（正解）"
   ]
  },
  {
   "cell_type": "markdown",
   "metadata": {},
   "source": [
    "### MatMulレイヤ"
   ]
  },
  {
   "cell_type": "code",
   "execution_count": 86,
   "metadata": {},
   "outputs": [],
   "source": [
    "# MatMulレイヤの実装\n",
    "class MatMul:\n",
    "    # 初期化\n",
    "    def __init__(self, W):\n",
    "        self.params = [W]\n",
    "        self.grad = [np.zeros_like(W)]\n",
    "        self.x = None\n",
    "    \n",
    "    def forward(self, x):\n",
    "        # 重みを取得\n",
    "        W, = self.params\n",
    "        \n",
    "        # 行列の積\n",
    "        out = np.dot(x, W)\n",
    "        \n",
    "        # 入力を保存\n",
    "        self.x = x\n",
    "        \n",
    "        return out\n",
    "    \n",
    "    def backward(self, dout):\n",
    "        # 重みを取得\n",
    "        W, = self.params\n",
    "        \n",
    "        # 勾配を取得\n",
    "        dx = np.dot(dout, W.T)\n",
    "        dW = no.dot(self.x.T, dout)\n",
    "        \n",
    "        # 勾配を格納\n",
    "        self.grads[0][...] = dW\n",
    "        \n",
    "        return dx\n",
    "        "
   ]
  },
  {
   "cell_type": "code",
   "execution_count": 89,
   "metadata": {},
   "outputs": [
    {
     "name": "stdout",
     "output_type": "stream",
     "text": [
      "(10, 15)\n",
      "(15, 5)\n"
     ]
    }
   ],
   "source": [
    "# 実装したMatMalを使用してみる\n",
    "N = 10  # バッチサイズ\n",
    "D = 15  # 1レイヤのニューロン\n",
    "H =5    # 2レイヤのニューロン\n",
    "\n",
    "# 入力を生成\n",
    "x = np.random.randn(N, D)\n",
    "print(x.shape)\n",
    "\n",
    "# 重み\n",
    "W = np.random.randn(D, H)\n",
    "print(W.shape)\n",
    "\n",
    "# インスタンス生成\n",
    "matmal_layer = MatMul(W)"
   ]
  },
  {
   "cell_type": "code",
   "execution_count": null,
   "metadata": {},
   "outputs": [],
   "source": []
  }
 ],
 "metadata": {
  "kernelspec": {
   "display_name": "ds_env",
   "language": "python",
   "name": "python3"
  },
  "language_info": {
   "codemirror_mode": {
    "name": "ipython",
    "version": 3
   },
   "file_extension": ".py",
   "mimetype": "text/x-python",
   "name": "python",
   "nbconvert_exporter": "python",
   "pygments_lexer": "ipython3",
   "version": "3.10.12"
  }
 },
 "nbformat": 4,
 "nbformat_minor": 2
}
